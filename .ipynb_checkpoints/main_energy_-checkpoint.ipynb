{
 "cells": [
  {
   "cell_type": "code",
   "execution_count": null,
   "metadata": {
    "collapsed": true
   },
   "outputs": [
    {
     "name": "stdout",
     "output_type": "stream",
     "text": [
      "predicted=62.720621, expected=64.898000\n",
      "predicted=64.231633, expected=65.946300\n",
      "predicted=65.283727, expected=66.471700\n",
      "predicted=65.870556, expected=65.948800\n",
      "predicted=65.497066, expected=65.364400\n",
      "predicted=65.229588, expected=65.532800\n",
      "predicted=65.545337, expected=65.760700\n",
      "predicted=65.765460, expected=65.759800\n",
      "predicted=65.793300, expected=66.868300\n",
      "predicted=66.832216, expected=67.857900\n",
      "predicted=67.594766, expected=68.089300\n"
     ]
    }
   ],
   "source": [
    "#!/usr/bin/env python3\n",
    "# -*- coding: utf-8 -*-\n",
    "\"\"\"\n",
    "Created on Sun Jan 21 16:32:14 2018\n",
    "\n",
    "@author: prince\n",
    "\"\"\"\n",
    "\n",
    "\n",
    "from pandas import read_csv\n",
    "from pandas import datetime\n",
    "from matplotlib import pyplot\n",
    "from statsmodels.tsa.arima_model import ARIMA\n",
    "from sklearn.metrics import mean_squared_error\n",
    "\n",
    "\n",
    "def parser(a,b,c,d):\n",
    "    return datetime.strptime('%s %s %s %s' % (a, b, c, d),'%Y %j %H %M')\n",
    "\n",
    "series = read_csv('sample.csv', header=0, parse_dates=[[0,1,2,3]],index_col=0, date_parser=parser)\n",
    "X = series.values\n",
    "size = int(len(X) * 0.75)\n",
    "#size = 88430\n",
    "train, test = X[0:size], X[size:len(X)]\n",
    "history = [x for x in train]\n",
    "predictions = list()\n",
    "for t in range(len(test)):\n",
    "    model = ARIMA(history, order=(5,1,0))\n",
    "    model_fit = model.fit(disp=0)\n",
    "    output = model_fit.forecast()\n",
    "    yhat = output[0]\n",
    "    predictions.append(yhat)\n",
    "    obs = test[t]\n",
    "    history.append(obs)\n",
    "#    print(t,end=',')\n",
    "    print('predicted=%f, expected=%f' % (yhat, obs))\n",
    "#print()\n",
    "error = mean_squared_error(test, predictions)\n",
    "print('Test MSE: %.3f' % error)\n",
    "# plot\n",
    "pyplot.plot(test)\n",
    "pyplot.plot(predictions, color='red')\n",
    "pyplot.show()"
   ]
  },
  {
   "cell_type": "code",
   "execution_count": null,
   "metadata": {
    "collapsed": true
   },
   "outputs": [],
   "source": []
  },
  {
   "cell_type": "code",
   "execution_count": null,
   "metadata": {
    "collapsed": true
   },
   "outputs": [],
   "source": []
  }
 ],
 "metadata": {
  "kernelspec": {
   "display_name": "Python 3",
   "language": "python",
   "name": "python3"
  },
  "language_info": {
   "codemirror_mode": {
    "name": "ipython",
    "version": 3
   },
   "file_extension": ".py",
   "mimetype": "text/x-python",
   "name": "python",
   "nbconvert_exporter": "python",
   "pygments_lexer": "ipython3",
   "version": "3.6.3"
  }
 },
 "nbformat": 4,
 "nbformat_minor": 2
}
